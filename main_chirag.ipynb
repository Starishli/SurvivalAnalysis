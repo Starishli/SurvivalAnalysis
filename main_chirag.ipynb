{
 "cells": [
  {
   "cell_type": "code",
   "execution_count": 31,
   "metadata": {},
   "outputs": [
    {
     "name": "stdout",
     "output_type": "stream",
     "text": [
      "False\n"
     ]
    }
   ],
   "source": [
    "import torch\n",
    "CUDA = torch.cuda.is_available()\n",
    "print(CUDA)"
   ]
  },
  {
   "cell_type": "code",
   "execution_count": 33,
   "metadata": {},
   "outputs": [],
   "source": [
    "import time\n",
    "from lifelines.utils import concordance_index \n",
    "import sys\n",
    "from torch import nn\n",
    "import survival_analysis_chirag\n",
    "import numpy as np\n",
    "import pandas as pd\n",
    "import network\n",
    "from torch.utils.data import TensorDataset, Dataset\n",
    "import torch.utils.data.dataloader as dataloader\n",
    "import matplotlib\n",
    "import matplotlib.pyplot as plt\n",
    "%matplotlib inline\n",
    "\n",
    "\n",
    "ds = pd.read_csv('./datasets/whas1638.csv',sep=',')\n",
    "train = ds[:400]\n",
    "validation = ds[400:]\n",
    "\n",
    "# x = train[['age', 'gender', 'bmi', 'chf', 'miord']]\n",
    "x = train[['1', '2', '3', '4', '5']]\n",
    "e = train['fstat']\n",
    "t = train['lenfol']\n",
    "\n",
    "x = torch.from_numpy(x.as_matrix()).float()\n",
    "e = torch.from_numpy(e.as_matrix()).float()\n",
    "t = torch.from_numpy(t.as_matrix())"
   ]
  },
  {
   "cell_type": "code",
   "execution_count": 34,
   "metadata": {},
   "outputs": [],
   "source": [
    "if CUDA:\n",
    "    x = x.cuda()\n",
    "    e = e.cuda()\n",
    "    t = t.cuda()"
   ]
  },
  {
   "cell_type": "code",
   "execution_count": 35,
   "metadata": {},
   "outputs": [],
   "source": [
    "def init_weights(m):\n",
    "    if type(m) == nn.Linear:\n",
    "        torch.nn.init.xavier_normal_(m.weight.data)\n",
    "#         m.weight.data.fill_(0)\n",
    "#         m.bias.data.fill_(1)\n",
    "\n",
    "def init_weights_for_cox(m):\n",
    "    if type(m) == nn.Linear:\n",
    "        m.weight.data.fill_(0)\n",
    "        m.bias.data.fill_(0)"
   ]
  },
  {
   "cell_type": "code",
   "execution_count": 36,
   "metadata": {},
   "outputs": [],
   "source": [
    "def train(model, x, e, t, CUDA, optimizer, n_epochs):\n",
    "\n",
    "    # Initialize Metrics\n",
    "    c_index = []\n",
    "    valid_c_index = []\n",
    "\n",
    "    risk_set = []\n",
    "    for i in range(len(t)):\n",
    "        temp = []\n",
    "        for j in range(len(t)):\n",
    "            if t[j] >= t[i]:\n",
    "                temp.append(j)\n",
    "        risk_set.append(temp)\n",
    "        \n",
    "    start = time.time()\n",
    "    for epoch in range(n_epochs):\n",
    "\n",
    "        optimizer.zero_grad()\n",
    "        # print(\"x: \", x)\n",
    "        outputs = model(x)\n",
    "\n",
    "        loss = negative_log_likelihood(outputs, e, risk_set, CUDA)\n",
    "        loss.backward()\n",
    "        optimizer.step()\n",
    "\n",
    "\n",
    "        print(loss.cpu().data.numpy())\n",
    "        \n",
    "        ci_train = get_concordance_index(outputs, t, e)\n",
    "        c_index.append(ci_train)\n",
    "        torch.cuda.empty_cache()\n",
    "                   \n",
    "        print('Finished Training with %d iterations in %0.2fs' % (epoch + 1, time.time() - start))\n",
    "    \n",
    "    metrics = {}\n",
    "    metrics['c-index'] = c_index\n",
    "    return metrics\n"
   ]
  },
  {
   "cell_type": "code",
   "execution_count": 37,
   "metadata": {},
   "outputs": [],
   "source": [
    "def negative_log_likelihood(risk, E, risk_set, CUDA):\n",
    "    \n",
    "    import numpy as np\n",
    "    \n",
    "#     new_risk = []\n",
    "#     for i in range(len(risk_set)):\n",
    "#         new_risk.append(risk[risk_set[i]])\n",
    "        \n",
    "#     log_risk = []\n",
    "#     for i in range(len(new_risk)):\n",
    "#         temp = torch.logsumexp(new_risk[i], 0)\n",
    "#         log_risk.append(temp)\n",
    "\n",
    "    lnumerator = risk\n",
    "    \n",
    "    idxs = range(risk.shape[0])\n",
    "    \n",
    "    \n",
    "    ldenominator = []\n",
    "    \n",
    "    for i in range(len(idxs)):\n",
    "        \n",
    "        ldenominator.append(torch.logsumexp(risk[risk_set[i]], dim=0))\n",
    "    \n",
    "    ldenominator = torch.cat(ldenominator).reshape(-1, 1)\n",
    "    \n",
    "    \n",
    "    likelihoods = lnumerator - ldenominator\n",
    "    \n",
    "    E =  np.where(E.cpu().data.numpy()==1)[0]\n",
    "    \n",
    "\n",
    "    \n",
    "    neg_likelihood = - torch.sum(likelihoods[E])\n",
    "    \n",
    "\n",
    "\n",
    "    return neg_likelihood\n"
   ]
  },
  {
   "cell_type": "code",
   "execution_count": 38,
   "metadata": {},
   "outputs": [],
   "source": [
    "def get_concordance_index(x, t, e, **kwargs):\n",
    "    x = x.detach().cpu().numpy()\n",
    "    t = t.detach().cpu().numpy()\n",
    "    e = e.detach().cpu().numpy()\n",
    "    computed_hazard = np.exp(x)\n",
    "\n",
    "    return concordance_index(t,-1*computed_hazard,e)\n"
   ]
  },
  {
   "cell_type": "code",
   "execution_count": 40,
   "metadata": {
    "scrolled": true
   },
   "outputs": [
    {
     "name": "stdout",
     "output_type": "stream",
     "text": [
      "CPH model\n",
      "3118.769\n",
      "Finished Training with 1 iterations in 0.03s\n",
      "3111.0977\n",
      "Finished Training with 2 iterations in 0.05s\n",
      "3103.429\n",
      "Finished Training with 3 iterations in 0.08s\n",
      "3095.763\n",
      "Finished Training with 4 iterations in 0.11s\n",
      "3088.1013\n",
      "Finished Training with 5 iterations in 0.14s\n",
      "3080.4421\n",
      "Finished Training with 6 iterations in 0.17s\n",
      "3072.7874\n",
      "Finished Training with 7 iterations in 0.20s\n",
      "3065.1362\n",
      "Finished Training with 8 iterations in 0.24s\n",
      "3057.4888\n",
      "Finished Training with 9 iterations in 0.27s\n",
      "3049.8452\n",
      "Finished Training with 10 iterations in 0.30s\n",
      "\n",
      "Done\n"
     ]
    }
   ],
   "source": [
    "\n",
    "# For CPH, set cox argument as True\n",
    "print(\"CPH model\")\n",
    "n_in = x.shape[1]\n",
    "\n",
    "layers_sizes = [n_in, 1]\n",
    "\n",
    "# Construct Neural Network\n",
    "layers = []\n",
    "for i in range(len(layers_sizes)-2):\n",
    "    layers.append(nn.Linear(layers_sizes[i],layers_sizes[i+1]))\n",
    "    layers.append(nn.ReLU())\n",
    "\n",
    "layers.append(nn.Linear(layers_sizes[-2], layers_sizes[-1]))\n",
    "my_network = nn.Sequential(*layers)\n",
    "#my_network.apply(init_weights)\n",
    "\n",
    "#optimizer = optimizer = torch.optim.SGD(my_network.parameters(), lr=learning_rate, momentum=momentum, weight_decay=L2_reg, nesterov=True)\n",
    "\n",
    "optimizer = torch.optim.Adam(my_network.parameters(), lr=1e-3)\n",
    "my_network.train()\n",
    "if CUDA:\n",
    "    my_network.cuda()\n",
    "\n",
    "# If you have validation data, you can add it as the valid_dataloader parameter to the function\n",
    "n_epochs = 10\n",
    "metrics = train(my_network, x, e, t, CUDA, optimizer, n_epochs)\n",
    "print()\n",
    "\n",
    "print(\"Done\")"
   ]
  },
  {
   "cell_type": "code",
   "execution_count": 41,
   "metadata": {},
   "outputs": [
    {
     "data": {
      "text/plain": [
       "Sequential(\n",
       "  (0): Linear(in_features=5, out_features=1, bias=True)\n",
       ")"
      ]
     },
     "execution_count": 41,
     "metadata": {},
     "output_type": "execute_result"
    }
   ],
   "source": [
    "my_network"
   ]
  },
  {
   "cell_type": "code",
   "execution_count": 42,
   "metadata": {},
   "outputs": [
    {
     "name": "stdout",
     "output_type": "stream",
     "text": [
      "Train C-Index: [0.2861588418346638, 0.2860911919902584, 0.28611374193839356, 0.2866098407973662, 0.2866098407973662, 0.2866098407973662, 0.2865647409010959, 0.2866098407973662, 0.2868578902268525, 0.2868127903305822]\n"
     ]
    }
   ],
   "source": [
    "print(\"Train C-Index:\", metrics['c-index'])"
   ]
  },
  {
   "cell_type": "code",
   "execution_count": null,
   "metadata": {},
   "outputs": [],
   "source": []
  }
 ],
 "metadata": {
  "anaconda-cloud": {},
  "kernelspec": {
   "display_name": "Python 3",
   "language": "python",
   "name": "python3"
  },
  "language_info": {
   "codemirror_mode": {
    "name": "ipython",
    "version": 3
   },
   "file_extension": ".py",
   "mimetype": "text/x-python",
   "name": "python",
   "nbconvert_exporter": "python",
   "pygments_lexer": "ipython3",
   "version": "3.6.7"
  }
 },
 "nbformat": 4,
 "nbformat_minor": 2
}
