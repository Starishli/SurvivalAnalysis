{
 "cells": [
  {
   "cell_type": "code",
   "execution_count": 6,
   "metadata": {},
   "outputs": [
    {
     "name": "stdout",
     "output_type": "stream",
     "text": [
      "True\n"
     ]
    }
   ],
   "source": [
    "\n",
    "\n",
    "import torch\n",
    "CUDA = torch.cuda.is_available()\n",
    "print(CUDA)"
   ]
  },
  {
   "cell_type": "code",
   "execution_count": 7,
   "metadata": {},
   "outputs": [],
   "source": [
    "import time\n",
    "from lifelines.utils import concordance_index \n",
    "import sys\n",
    "from torch import nn\n",
    "import numpy as np\n",
    "import pandas as pd\n",
    "import network\n",
    "from torch.utils.data import TensorDataset, Dataset\n",
    "import torch.utils.data.dataloader as dataloader\n",
    "import matplotlib\n",
    "import matplotlib.pyplot as plt\n",
    "%matplotlib inline\n",
    "\n",
    "\n",
    "ds = pd.read_csv('./datasets/whas500.csv',sep=',')\n",
    "# ds = pd.read_csv('./datasets/whas1638.csv',sep=',')\n",
    "train = ds\n",
    "# train = ds[:400]\n",
    "# validation = ds[400:]\n",
    "\n",
    "x = train[['age', 'gender', 'bmi', 'chf', 'miord']]\n",
    "# x = train[['1', '2', '3', '4', '5']]\n",
    "e = train['fstat']\n",
    "t = train['lenfol']\n",
    "\n",
    "x = torch.from_numpy(x.as_matrix()).float()\n",
    "e = torch.from_numpy(e.as_matrix()).float()\n",
    "t = torch.from_numpy(t.as_matrix())"
   ]
  },
  {
   "cell_type": "code",
   "execution_count": 8,
   "metadata": {},
   "outputs": [],
   "source": [
    "if CUDA:\n",
    "    x = x.cuda()\n",
    "    e = e.cuda()\n",
    "    t = t.cuda()"
   ]
  },
  {
   "cell_type": "code",
   "execution_count": 9,
   "metadata": {},
   "outputs": [
    {
     "name": "stdout",
     "output_type": "stream",
     "text": [
      "starting risk set computation...\n",
      "risk set computed\n"
     ]
    }
   ],
   "source": [
    "def init_weights(m):\n",
    "    if type(m) == nn.Linear:\n",
    "        torch.nn.init.xavier_normal_(m.weight.data)\n",
    "#         m.weight.data.fill_(0)\n",
    "#         m.bias.data.fill_(1)\n",
    "\n",
    "def init_weights_for_cox(m):\n",
    "    if type(m) == nn.Linear:\n",
    "        m.weight.data.fill_(0)\n",
    "        m.bias.data.fill_(0)\n",
    "        \n",
    "print(\"starting risk set computation...\")\n",
    "risk_set = []\n",
    "for i in range(len(t)):\n",
    "    temp = []\n",
    "    for j in range(len(t)):\n",
    "        if t[j] >= t[i]:\n",
    "            temp.append(j)\n",
    "    risk_set.append(temp)\n",
    "\n",
    "print(\"risk set computed\")"
   ]
  },
  {
   "cell_type": "code",
   "execution_count": 32,
   "metadata": {},
   "outputs": [],
   "source": [
    "def train(gated_network, betas_network, risk_set, x, e, t, CUDA, optimizer, n_epochs):\n",
    "\n",
    "    # Initialize Metrics\n",
    "    c_index = []\n",
    "    train_loss = []\n",
    "    \n",
    "    valid_c_index = []\n",
    "    diff = 1e-3\n",
    "    \n",
    "    prev_loss = 0\n",
    "    \n",
    "    start = time.time()\n",
    "    for epoch in range(n_epochs):\n",
    "\n",
    "        optimizer.zero_grad()\n",
    "        # print(\"x: \", x)\n",
    "        gated_outputs = gated_network(x)\n",
    "        lsoftmax = nn.LogSoftmax(dim=1)(gated_outputs)\n",
    "        \n",
    "        betas_output = betas_network(x)\n",
    "        \n",
    "        ci_train = get_concordance_index(betas_output, gated_outputs, t, e)\n",
    "        c_index.append(ci_train)\n",
    "        \n",
    "#         loss = negative_log_likelihood(gated_outputs, betas_output, e, risk_set, CUDA)\n",
    "        loss = elbo(betas_output, gated_outputs, e, risk_set, CUDA)\n",
    "        \n",
    "        loss.backward()\n",
    "        optimizer.step()\n",
    "\n",
    "        my_loss = loss.cpu().data.numpy()\n",
    "        train_loss.append(my_loss)\n",
    "        if abs(my_loss - prev_loss) < diff:\n",
    "            break\n",
    "        prev_loss = my_loss\n",
    "        \n",
    "        \n",
    "        torch.cuda.empty_cache()          \n",
    "        print('Finished Training with %d iterations in %0.2fs' % (epoch + 1, time.time() - start))\n",
    "    \n",
    "    metrics = {}\n",
    "    metrics['train_loss'] = train_loss\n",
    "    metrics['c-index'] = c_index\n",
    "    return metrics\n"
   ]
  },
  {
   "cell_type": "code",
   "execution_count": 33,
   "metadata": {},
   "outputs": [],
   "source": [
    "def negative_log_likelihood(risk, lsoftmax, E, risk_set, CUDA):\n",
    "    \n",
    "    import numpy as np\n",
    "    \n",
    "#     new_risk = []\n",
    "#     for i in range(len(risk_set)):\n",
    "#         new_risk.append(risk[risk_set[i]])\n",
    "        \n",
    "#     log_risk = []\n",
    "#     for i in range(len(new_risk)):\n",
    "#         temp = torch.logsumexp(new_risk[i], 0)\n",
    "#         log_risk.append(temp)\n",
    "\n",
    "    lnumerator = risk\n",
    "    \n",
    "    idxs = range(risk.shape[0])\n",
    "    \n",
    "    \n",
    "    ldenominator = []\n",
    "    \n",
    "    for i in range(len(idxs)):\n",
    "        ldenominator.append(torch.logsumexp(risk[risk_set[i]], dim=0))\n",
    "            \n",
    "                            \n",
    "    ldenominator = torch.stack(ldenominator, dim=0)\n",
    "    print(ldenominator.shape)\n",
    "#     print(lnumerator.shape)\n",
    "    \n",
    "    \n",
    "    likelihoods = lnumerator - ldenominator\n",
    "    print(likelihoods.shape)\n",
    "    \n",
    "    E =  np.where(E.cpu().data.numpy()==1)[0]\n",
    "    \n",
    "\n",
    "    \n",
    "#     neg_likelihood = - torch.sum(likelihoods[E])\n",
    "    likelihoods = likelihoods[E] + lsoftmax[E]\n",
    "    likelihoods = torch.logsumexp(likelihoods, dim=1)\n",
    "    neg_likelihood = - torch.sum(likelihoods)\n",
    "\n",
    "    return neg_likelihood\n"
   ]
  },
  {
   "cell_type": "code",
   "execution_count": 34,
   "metadata": {},
   "outputs": [],
   "source": [
    "def elbo(risk, gated_output, E, risk_set, CUDA):\n",
    "    go_sm = nn.Softmax(dim=1)(gated_output)\n",
    "    lnumerator = torch.mul(go_sm, risk)\n",
    "    \n",
    "    lnumerator = torch.sum(lnumerator, dim=1)\n",
    "    \n",
    "    expected_risks = torch.exp(risk) * go_sm\n",
    "    expected_risks = torch.sum(expected_risks, dim=1)\n",
    "    ldenominator = []\n",
    "    for i in range(risk.shape[0]):\n",
    "        ldenominator.append(torch.sum(expected_risks[risk_set[i]], dim=0))\n",
    "        \n",
    "    ldenominator = torch.stack(ldenominator, dim=0)\n",
    "    ldenominator = torch.log(ldenominator)\n",
    "    \n",
    "    likelihoods = lnumerator - ldenominator\n",
    "    \n",
    "    E =  np.where(E.cpu().data.numpy()==1)[0]\n",
    "    \n",
    "\n",
    "    \n",
    "#     neg_likelihood = - torch.sum(likelihoods[E])\n",
    "    likelihoods = likelihoods[E]\n",
    "    neg_likelihood = - torch.sum(likelihoods)\n",
    "    \n",
    "    return neg_likelihood"
   ]
  },
  {
   "cell_type": "code",
   "execution_count": 35,
   "metadata": {},
   "outputs": [],
   "source": [
    "def get_concordance_index(x, gated_x, t, e, **kwargs):\n",
    "#     x = x.detach().cpu().numpy()\n",
    "    t = t.detach().cpu().numpy()\n",
    "    e = e.detach().cpu().numpy()\n",
    "    softmax = torch.nn.Softmax(dim=1)(gated_x)\n",
    "    computed_hazard = torch.exp(x)\n",
    "\n",
    "    computed_hazard = torch.mul(softmax, computed_hazard)\n",
    "    computed_hazard = torch.sum(computed_hazard, dim = 1)\n",
    "    return concordance_index(t,-1*computed_hazard.detach().cpu().numpy(),e)\n"
   ]
  },
  {
   "cell_type": "code",
   "execution_count": null,
   "metadata": {
    "scrolled": true
   },
   "outputs": [],
   "source": []
  },
  {
   "cell_type": "code",
   "execution_count": null,
   "metadata": {},
   "outputs": [
    {
     "name": "stdout",
     "output_type": "stream",
     "text": [
      "Finished Training with 1 iterations in 1.67s\n",
      "Finished Training with 2 iterations in 3.63s\n",
      "Finished Training with 3 iterations in 5.12s\n",
      "Finished Training with 4 iterations in 6.57s\n",
      "Finished Training with 5 iterations in 8.11s\n",
      "Finished Training with 6 iterations in 9.83s\n",
      "Finished Training with 7 iterations in 11.73s\n",
      "Finished Training with 8 iterations in 13.98s\n",
      "Finished Training with 9 iterations in 15.93s\n",
      "Finished Training with 10 iterations in 18.18s\n",
      "Finished Training with 11 iterations in 20.22s\n",
      "Finished Training with 12 iterations in 22.19s\n",
      "Finished Training with 13 iterations in 24.49s\n",
      "Finished Training with 14 iterations in 26.40s\n",
      "Finished Training with 15 iterations in 28.23s\n",
      "Finished Training with 16 iterations in 30.20s\n",
      "Finished Training with 17 iterations in 32.36s\n",
      "Finished Training with 18 iterations in 34.53s\n",
      "Finished Training with 19 iterations in 36.67s\n",
      "Finished Training with 20 iterations in 38.69s\n",
      "Finished Training with 21 iterations in 40.61s\n",
      "Finished Training with 22 iterations in 42.58s\n",
      "Finished Training with 23 iterations in 44.55s\n",
      "Finished Training with 24 iterations in 46.99s\n",
      "Finished Training with 25 iterations in 49.53s\n"
     ]
    }
   ],
   "source": [
    "n_in = x.shape[1]\n",
    "k = 2\n",
    "\n",
    "betas_network = nn.Sequential(nn.Linear(n_in, k))\n",
    "\n",
    "layers_sizes = [n_in, 4, k]\n",
    "# Construct Neural Network\n",
    "layers = []\n",
    "for i in range(len(layers_sizes)-2):\n",
    "    layers.append(nn.Linear(layers_sizes[i],layers_sizes[i+1]))\n",
    "    layers.append(nn.ReLU())\n",
    "\n",
    "layers.append(nn.Linear(layers_sizes[-2], layers_sizes[-1]))\n",
    "gated_network = nn.Sequential(*layers)\n",
    "#my_network.apply(init_weights)\n",
    "\n",
    "#optimizer = optimizer = torch.optim.SGD(my_network.parameters(), lr=learning_rate, momentum=momentum, weight_decay=L2_reg, nesterov=True)\n",
    "optimizer = torch.optim.Adam(list(gated_network.parameters()) + list(betas_network.parameters()), lr=1e-3)\n",
    "betas_network.train()\n",
    "gated_network.train()\n",
    "\n",
    "if CUDA:\n",
    "    gated_network.cuda()\n",
    "    betas_network.cuda()\n",
    "\n",
    "# If you have validation data, you can add it as the valid_dataloader parameter to the function\n",
    "n_epochs = 100\n",
    "metrics = train(gated_network, betas_network, risk_set, x, e, t, CUDA, optimizer, n_epochs)\n",
    "print()\n",
    "\n",
    "print(\"Done\")"
   ]
  },
  {
   "cell_type": "code",
   "execution_count": null,
   "metadata": {},
   "outputs": [],
   "source": [
    "print(metrics['train_loss'])\n",
    "print(metrics['c-index'])\n"
   ]
  },
  {
   "cell_type": "code",
   "execution_count": 65,
   "metadata": {},
   "outputs": [
    {
     "name": "stdout",
     "output_type": "stream",
     "text": [
      "num of epochs:  189\n"
     ]
    },
    {
     "data": {
      "image/png": "[encoded data removed]",
      "text/plain": [
       "<Figure size 432x288 with 1 Axes>"
      ]
     },
     "metadata": {
      "needs_background": "light"
     },
     "output_type": "display_data"
    },
    {
     "data": {
      "image/png": "[encoded data removed]",
      "text/plain": [
       "<Figure size 432x288 with 1 Axes>"
      ]
     },
     "metadata": {
      "needs_background": "light"
     },
     "output_type": "display_data"
    }
   ],
   "source": [
    "# Print the final metrics\n",
    "# print('Train C-Index:', metrics['c-index'])\n",
    "# print('Valid C-Index: ',metrics['valid_c-index'][-1])\n",
    "\n",
    "print(\"num of epochs: \", len(metrics['train_loss']))\n",
    "# print(metrics['train_loss'])\n",
    "# Plot the training / validation curves\n",
    "plt.plot(range(len(metrics['train_loss'])), metrics['train_loss'])\n",
    "plt.xlabel('no. of epochs')\n",
    "plt.ylabel('training loss')\n",
    "plt.show()\n",
    "\n",
    "plt.plot(range(len(metrics['c-index'])), metrics['c-index'])\n",
    "plt.xlabel('no. of epochs')\n",
    "plt.ylabel('concordance index')\n",
    "# plt.plot(range(len(metrics['c-index'])), metrics['c-index'])\n",
    "plt.show()"
   ]
  },
  {
   "cell_type": "code",
   "execution_count": 52,
   "metadata": {},
   "outputs": [
    {
     "name": "stdout",
     "output_type": "stream",
     "text": [
      "0.7763382951652223\n"
     ]
    }
   ],
   "source": [
    "print(metrics['c-index'][-1])"
   ]
  },
  {
   "cell_type": "code",
   "execution_count": null,
   "metadata": {},
   "outputs": [],
   "source": []
  }
 ],
 "metadata": {
  "anaconda-cloud": {},
  "kernelspec": {
   "display_name": "Python 3",
   "language": "python",
   "name": "python3"
  },
  "language_info": {
   "codemirror_mode": {
    "name": "ipython",
    "version": 3
   },
   "file_extension": ".py",
   "mimetype": "text/x-python",
   "name": "python",
   "nbconvert_exporter": "python",
   "pygments_lexer": "ipython3",
   "version": "3.6.6"
  }
 },
 "nbformat": 4,
 "nbformat_minor": 2
}
